{
 "cells": [
  {
   "cell_type": "code",
   "execution_count": 21,
   "id": "416ae4e8",
   "metadata": {},
   "outputs": [],
   "source": [
    "# rice_yield_train_predict.py\n",
    "\n",
    "import os\n",
    "import pandas as pd\n",
    "import numpy as np\n",
    "import matplotlib.pyplot as plt\n",
    "import seaborn as sns\n",
    "\n",
    "from sklearn.model_selection import train_test_split\n",
    "from sklearn.linear_model import LinearRegression\n",
    "from sklearn.ensemble import RandomForestRegressor\n",
    "from sklearn.metrics import mean_squared_error\n",
    "import xgboost as xgb\n",
    "import joblib\n",
    "\n",
    "# Paths\n",
    "DATA_PATH = r\"..\\..\\data\\processed\\rice_data.csv\"\n",
    "OUTPUT_DIR = r\"..\\..\\outputs\"\n",
    "MODEL_DIR = r\"..\\..\\models\"\n",
    "os.makedirs(OUTPUT_DIR, exist_ok=True)\n",
    "os.makedirs(MODEL_DIR, exist_ok=True)\n"
   ]
  },
  {
   "cell_type": "code",
   "execution_count": 22,
   "id": "212f39c5",
   "metadata": {},
   "outputs": [
    {
     "name": "stdout",
     "output_type": "stream",
     "text": [
      "✅ Dataset Loaded: (33, 7)\n"
     ]
    }
   ],
   "source": [
    "\n",
    "# ---------------------------\n",
    "# 1. Load Data\n",
    "# ---------------------------\n",
    "df = pd.read_csv(DATA_PATH)\n",
    "df['Year'] = df['Year'].astype(int)\n",
    "print(\"✅ Dataset Loaded:\", df.shape)\n"
   ]
  },
  {
   "cell_type": "code",
   "execution_count": 23,
   "id": "6802e617",
   "metadata": {},
   "outputs": [
    {
     "name": "stdout",
     "output_type": "stream",
     "text": [
      "🔍 Missing Values:\n",
      " Area                             0\n",
      "Item                             0\n",
      "Year                             0\n",
      "hg/ha_yield                      0\n",
      "avg_temp                         0\n",
      "average_rain_fall_mm_per_year    0\n",
      "pesticides_tonnes                0\n",
      "dtype: int64\n"
     ]
    }
   ],
   "source": [
    "\n",
    "# ---------------------------\n",
    "# 2. Check for Missing\n",
    "# ---------------------------\n",
    "print(\"🔍 Missing Values:\\n\", df.isnull().sum())\n"
   ]
  },
  {
   "cell_type": "code",
   "execution_count": 8,
   "id": "b88c0cd0",
   "metadata": {},
   "outputs": [
    {
     "name": "stdout",
     "output_type": "stream",
     "text": [
      "🔍 Missing Values:\n",
      " Area                             0\n",
      "Item                             0\n",
      "Year                             0\n",
      "hg/ha_yield                      0\n",
      "avg_temp                         0\n",
      "average_rain_fall_mm_per_year    0\n",
      "pesticides_tonnes                0\n",
      "dtype: int64\n"
     ]
    }
   ],
   "source": [
    "\n",
    "# ---------------------------\n",
    "# 2. Check Missing Values\n",
    "# ---------------------------\n",
    "\n",
    "print(\"🔍 Missing Values:\\n\", df.isnull().sum())\n"
   ]
  },
  {
   "cell_type": "code",
   "execution_count": null,
   "id": "02a72a64",
   "metadata": {},
   "outputs": [],
   "source": [
    "\n",
    "# ---------------------------\n",
    "# 3. EDA Plots (Optional)\n",
    "# ---------------------------\n",
    "plt.figure(figsize=(10, 5))\n",
    "sns.lineplot(data=df, x='Year', y='hg/ha_yield')\n",
    "plt.title(\"Rice Yield Over Years in Nepal\")\n",
    "plt.ylabel(\"Yield (hg/ha)\")\n",
    "plt.grid()\n",
    "plt.tight_layout()\n",
    "plt.savefig(os.path.join(OUTPUT_DIR, 'rice_yield_trend.png'))\n",
    "plt.close()\n",
    "\n",
    "\n",
    "# Correlation Matrix\n",
    "plt.figure(figsize=(8, 6))\n",
    "corr = df[['hg/ha_yield', 'avg_temp', 'average_rain_fall_mm_per_year', 'pesticides_tonnes']].corr()\n",
    "sns.heatmap(corr, annot=True, cmap='coolwarm')\n",
    "plt.title(\"Correlation Matrix\")\n",
    "plt.tight_layout()\n",
    "plt.savefig(os.path.join(OUTPUT_DIR, 'correlation_matrix.png'))\n",
    "plt.close()\n"
   ]
  },
  {
   "cell_type": "code",
   "execution_count": 27,
   "id": "a705acd3",
   "metadata": {},
   "outputs": [
    {
     "name": "stdout",
     "output_type": "stream",
     "text": [
      "Linear Regression RMSE: 2422.12\n",
      "Random Forest RMSE: 1860.08\n",
      "XGBoost RMSE: 2707.26\n",
      "\n",
      "✅ Best Model: Random Forest (RMSE: 1860.08)\n"
     ]
    }
   ],
   "source": [
    "# ---------------------------\n",
    "# 4. Model Training\n",
    "# ---------------------------\n",
    "features = ['avg_temp', 'average_rain_fall_mm_per_year', 'pesticides_tonnes']\n",
    "target = 'hg/ha_yield'\n",
    "\n",
    "df = df.dropna(subset=features + [target])\n",
    "\n",
    "X = df[features]\n",
    "y = df[target]\n",
    "\n",
    "X_train, X_test, y_train, y_test = train_test_split(X, y, test_size=0.2, random_state=42)\n",
    "\n",
    "models = {\n",
    "    'Linear Regression': LinearRegression(),\n",
    "    'Random Forest': RandomForestRegressor(random_state=42),\n",
    "    'XGBoost': xgb.XGBRegressor(objective='reg:squarederror', random_state=42)\n",
    "}\n",
    "\n",
    "results = {}\n",
    "\n",
    "\n",
    "for name, model in models.items():\n",
    "    model.fit(X_train, y_train)\n",
    "    preds = model.predict(X_test)\n",
    "    rmse = np.sqrt(mean_squared_error(y_test, preds))\n",
    "    results[name] = {'model': model, 'rmse': rmse}\n",
    "    print(f\"{name} RMSE: {rmse:.2f}\")\n",
    "\n",
    "# Save best model\n",
    "best_model_name = min(results, key=lambda name: results[name]['rmse'])\n",
    "best_model = results[best_model_name]['model']\n",
    "joblib.dump(best_model, os.path.join(MODEL_DIR, 'best_rice_yield_model.joblib'))\n",
    "\n",
    "print(f\"\\n✅ Best Model: {best_model_name} (RMSE: {results[best_model_name]['rmse']:.2f})\")\n",
    "\n"
   ]
  },
  {
   "cell_type": "code",
   "execution_count": 30,
   "id": "6d3d2726",
   "metadata": {},
   "outputs": [
    {
     "name": "stdout",
     "output_type": "stream",
     "text": [
      "⚠️ No actual data found for 2025–2035. Skipping prediction.\n"
     ]
    }
   ],
   "source": [
    "\n",
    "# ---------------------------\n",
    "# 5. Predict for 2025–2035 (Only If Data Exists)\n",
    "# ---------------------------\n",
    "\n",
    "# Filter actual future data\n",
    "future_df = df[df['Year'].between(2025, 2035)].copy()\n",
    "\n",
    "if future_df.empty:\n",
    "    print(\"⚠️ No actual data found for 2025–2035. Skipping prediction.\")\n",
    "else:\n",
    "    X_future = future_df[features].astype(float)\n",
    "    future_df['Predicted_Yield'] = best_model.predict(X_future)\n",
    "\n",
    "    # Plot\n",
    "    plt.figure(figsize=(10, 6))\n",
    "    plt.plot(future_df['Year'], future_df['Predicted_Yield'], marker='o', linestyle='-', color='green', label='Projected Yield')\n",
    "    plt.title('Projected Rice Yield (2025–2035) – From Actual Dataset')\n",
    "    plt.xlabel('Year')\n",
    "    plt.ylabel('Yield (hg/ha)')\n",
    "    plt.grid(True)\n",
    "    plt.legend()\n",
    "    plt.tight_layout()\n",
    "    plt.savefig(os.path.join(OUTPUT_DIR, 'future_yield_from_actual_data.png'))\n",
    "    plt.close()\n",
    "\n",
    "    # Save CSV\n",
    "    future_df.to_csv(os.path.join(OUTPUT_DIR, 'predicted_yield_2025_2035.csv'), index=False)\n",
    "\n",
    "    print(\"✅ Future prediction complete. Output saved.\")"
   ]
  }
 ],
 "metadata": {
  "kernelspec": {
   "display_name": "Python (myenv)",
   "language": "python",
   "name": "myenv"
  },
  "language_info": {
   "codemirror_mode": {
    "name": "ipython",
    "version": 3
   },
   "file_extension": ".py",
   "mimetype": "text/x-python",
   "name": "python",
   "nbconvert_exporter": "python",
   "pygments_lexer": "ipython3",
   "version": "3.12.3"
  }
 },
 "nbformat": 4,
 "nbformat_minor": 5
}
